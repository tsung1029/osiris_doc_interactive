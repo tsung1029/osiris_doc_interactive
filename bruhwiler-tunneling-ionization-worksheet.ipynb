{
 "cells": [
  {
   "cell_type": "markdown",
   "id": "a1b7271d-e19a-4c81-ad57-711773575750",
   "metadata": {},
   "source": [
    "## ADK Ionization Estimation Calculator\n",
    "\n",
    "###\n",
    "### This is a simple notebook to estimate ionization % for a given laser pulse.  \n",
    "### because I am not a robot.  \n",
    "###\n",
    "\n",
    "by Frank S. Tsung\n",
    "\n",
    "In all seriousness, the purpose of this notebook is to calculate if the laser is capable of ionizing a given element (at least the outer most electron).  This would give a good starting point for deciding whether or not you should use the ionization module to study your plasma.  The original reference for the ADK model can be found here:\n",
    "\n",
    "Ammosov, Delone, and krainov, Zh. Eksp. Teor. Fiz 91 p. 2008-2013 (1986).\n",
    "\n",
    "The best practical reference for the application of this model is by Bruhwiler and co-workers, in the reference below:\n",
    "\n",
    "Bruhwiler, Dimitrov, Cary, Esarey, Leemans, Giacone, Phys. Plas. 10, 2022 (2003).\n",
    "\n",
    "The ADK model has a governing equation\n",
    "\n",
    "$W_{\\alpha}(E) = \\frac{4^n \\xi_i}{n* \\gamma(2n*)} \\left( \\frac{2\\xi_0}{E} \\right)^{2n*-1} \n",
    "\\exp \\left( - \\frac{2 \\xi_0}{3E} \\right)$\n",
    "\n",
    "where rate is normalized to the inverse atomic time $\\tau_a = 2.42 \\times 10^{-17} s$\n",
    "\n",
    "the constant $\\xi_0$ is a dimensionless parameter:\n",
    "\n",
    "$ \\xi_0 =(2 \\xi_i)^{(2/3)} $\n",
    "\n",
    "$ n* = Z/(2\\xi_i)^{1/2}$ \n",
    "\n",
    "and electric field is normalized to the atomic field $E_a  = \\kappa^3 m_e^2 e^5/\\hbar^4 \\approx 5.14 \\times 10^{11} V/m$ while the normalized parameter $\\xi_i$ is normalized to the atomic energy scale \n",
    "$\\xi_a = \\kappa^2m_e e^4/\\hbar^2 \\approx 4.36 \\times 10^{-18} J$.  Borrowing from the Bruhwiler paper, in MKS units, the ADK equation becomes:\n",
    "\n",
    "$W_{\\alpha}(E) = 1.52 \\times 10^{15} \\frac{ 4^{n*} \\xi_i(eV)}{n* \\Gamma(2n*)}\n",
    "\\left( 20.5 \\frac{\\xi_i^{3/2}(eV)}{E[GeV/m]}  \\right)^{(2n*-1)} \\times \n",
    "\\exp \\left(  -6.83 \\frac{ \\xi^{3/2}(eV)}{E(GeV/m)} \\right)$\n",
    "\n",
    "Bruhwiler worked out the coefficients for a few elements (the original ADK paper worked them out for a few elements and listed them in his paper, they are:\n",
    "\n",
    "H: $\\xi = 13.6eV$, $\\bar{\\xi} = 0.5$, $\\xi_0 = 1$, $Z=1$, $n*=1.00$, $E_{crit} = 75.3 (GeV/m)$\n",
    "\n",
    "He: $\\xi = 24.5eV$, $Z=1$, $n*=.746$, $E_{crit} = 182. (GeV/m)$\n",
    "\n",
    "He+: $\\xi = 54.4eV$, $Z=2$, $n*=1$, $E_{crit} = 602. (GeV/m)$\n",
    "\n",
    "Li: $\\xi = 5.39eV$, $\\bar{\\xi} = 0.198$, $\\xi_0 = .539$, $Z=1$, $n*=1.59$, $E_{crit} = 18.7 (GeV/m)$\n",
    "\n",
    "So, applying the constants above, we have the following formulas for Hydrogen and Lithium:\n",
    "\n",
    "$W_H = \\frac{4.251 \\times 10^{19} }{E(GeV/m)} \\exp\\left( - 342.55/E(GeV/m) \\right)$ \n",
    "\n",
    "$W_{Li} = \\frac{3.60 \\times 10^{21} }{E(GeV/m)^{2.18}} \\exp\\left( - 85.5/E(GeV/m) \\right)$ "
   ]
  },
  {
   "cell_type": "code",
   "execution_count": 1,
   "id": "5483ce4c-4b73-45ed-a789-cdbe145e8a0b",
   "metadata": {},
   "outputs": [
    {
     "name": "stdout",
     "output_type": "stream",
     "text": [
      "5.366484681593995\n",
      "4.888602168236063 GeV/m\n"
     ]
    }
   ],
   "source": [
    "me_cgs = 9.109558*10**(-28)\n",
    "qe_cgs = 4.8032*10**(-10)\n",
    "c_cgs = 29979000000\n",
    "my_twopi = 6.28318530718\n",
    "\n",
    "def e_cgs(e_norm, lambda_micron):\n",
    "    omega0 = c_cgs*my_twopi*10000/lambda_micron\n",
    "    print(omega0/10**(15))\n",
    "# 1 erg is 624.151 GeV, 1 meter is 100 cm, so converting from erg/cm to GeV/m involves dividing by 6.24151\n",
    "    return(e_norm*me_cgs/qe_cgs*c_cgs*omega0/62415)\n",
    "\n",
    "print(e_cgs(0.001,0.351),'GeV/m')\n",
    "\n",
    "\n",
    "    "
   ]
  },
  {
   "cell_type": "code",
   "execution_count": 17,
   "id": "8ee0ef46-11d8-4a36-a141-780044f8b005",
   "metadata": {},
   "outputs": [
    {
     "name": "stdout",
     "output_type": "stream",
     "text": [
      "0.02376733144815015\n"
     ]
    }
   ],
   "source": [
    "import numpy as np\n",
    "print(np.exp(-342.55/7)*4.251*10**19)"
   ]
  },
  {
   "cell_type": "code",
   "execution_count": 7,
   "id": "d7508898-cb92-4d85-b543-f537d16a29d4",
   "metadata": {},
   "outputs": [
    {
     "name": "stdout",
     "output_type": "stream",
     "text": [
      "9.04895332598105e+21\n",
      "1.1148400987141909e+21\n",
      "1.1148400987141908e+19\n"
     ]
    }
   ],
   "source": [
    "#\n",
    "# This notebook is a companion for the intro of my HFHI paper\n",
    "# the goal of this paper is to record the previous works and \n",
    "# see how our paper stands out among the previous works.\n",
    "#\n",
    "import sys\n",
    "# print(sys.path)\n",
    "sys.path.append('/Users/uclapic/Documents/code-development/python-tsung')\n",
    "sys.path.append('/Users/uclapic/Documents/code-development/pyVisOS')\n",
    "sys.path.append('/usr/local/lib/python3.11/site-packages')\n",
    "import numpy as np\n",
    "import hfhi\n",
    "import matplotlib.pyplot as plt\n",
    "print(hfhi.ncrit(0.351))\n",
    "print(hfhi.ncrit(1))\n",
    "\n",
    "print(hfhi.ncrit(10))"
   ]
  },
  {
   "cell_type": "code",
   "execution_count": null,
   "id": "932d528f-41c2-4f72-a084-2006086ee454",
   "metadata": {},
   "outputs": [],
   "source": []
  },
  {
   "cell_type": "code",
   "execution_count": 13,
   "id": "7b12c340-ec03-49cf-b75b-71f35f84d86a",
   "metadata": {},
   "outputs": [
    {
     "name": "stdout",
     "output_type": "stream",
     "text": [
      "15.274175005769381\n",
      "43.58935955629567\n",
      "435.8935955629566\n"
     ]
    }
   ],
   "source": [
    "print((hfhi.vth(50)/hfhi.omegap(0.01*9.04*10**21))**3*9.04*10**19)\n",
    "print((hfhi.vth(50)/hfhi.omegap(0.01*1.11*10**21))**3*1.11*10**19)\n",
    "print((hfhi.vth(50)/hfhi.omegap(0.01*1.11*10**19))**3*1.11*10**17)"
   ]
  },
  {
   "cell_type": "code",
   "execution_count": 16,
   "id": "282286b6-a8ac-4aee-b444-0eb58471b97c",
   "metadata": {},
   "outputs": [
    {
     "name": "stdout",
     "output_type": "stream",
     "text": [
      "1.1148400987141909e+21\n"
     ]
    }
   ],
   "source": [
    "print(hfhi.ncrit(1.0))"
   ]
  },
  {
   "cell_type": "code",
   "execution_count": null,
   "id": "a296b4c1-6d75-4c93-aa1b-aabddc2df51c",
   "metadata": {},
   "outputs": [],
   "source": []
  }
 ],
 "metadata": {
  "kernelspec": {
   "display_name": "Python 3 (ipykernel)",
   "language": "python",
   "name": "python3"
  },
  "language_info": {
   "codemirror_mode": {
    "name": "ipython",
    "version": 3
   },
   "file_extension": ".py",
   "mimetype": "text/x-python",
   "name": "python",
   "nbconvert_exporter": "python",
   "pygments_lexer": "ipython3",
   "version": "3.11.7"
  }
 },
 "nbformat": 4,
 "nbformat_minor": 5
}
